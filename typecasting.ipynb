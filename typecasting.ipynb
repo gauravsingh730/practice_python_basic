{
 "cells": [
  {
   "cell_type": "code",
   "execution_count": 1,
   "id": "7ccecf28-35c7-4e4d-abe3-dc7249c3cc8d",
   "metadata": {},
   "outputs": [],
   "source": [
    "a = 5"
   ]
  },
  {
   "cell_type": "code",
   "execution_count": 2,
   "id": "985b5d4d-6252-4d4c-a86d-34008b874f49",
   "metadata": {},
   "outputs": [
    {
     "data": {
      "text/plain": [
       "int"
      ]
     },
     "execution_count": 2,
     "metadata": {},
     "output_type": "execute_result"
    }
   ],
   "source": [
    "type(a)"
   ]
  },
  {
   "cell_type": "code",
   "execution_count": 3,
   "id": "338f16ed-62db-460e-af25-f822d959d8d8",
   "metadata": {},
   "outputs": [],
   "source": [
    "b = 5.6"
   ]
  },
  {
   "cell_type": "code",
   "execution_count": 4,
   "id": "d4c18f36-5efe-4637-9af7-dd9e9ad0b62c",
   "metadata": {},
   "outputs": [
    {
     "data": {
      "text/plain": [
       "float"
      ]
     },
     "execution_count": 4,
     "metadata": {},
     "output_type": "execute_result"
    }
   ],
   "source": [
    "type(b)"
   ]
  },
  {
   "cell_type": "code",
   "execution_count": 5,
   "id": "d4a73bdf-fa47-4021-bbfc-448e6037d4c3",
   "metadata": {},
   "outputs": [
    {
     "data": {
      "text/plain": [
       "str"
      ]
     },
     "execution_count": 5,
     "metadata": {},
     "output_type": "execute_result"
    }
   ],
   "source": [
    "c = \"Gaurav\"\n",
    "type(c)"
   ]
  },
  {
   "cell_type": "code",
   "execution_count": 6,
   "id": "a3162331-01a5-44cc-b51c-3ea901890e8a",
   "metadata": {},
   "outputs": [
    {
     "data": {
      "text/plain": [
       "'555'"
      ]
     },
     "execution_count": 6,
     "metadata": {},
     "output_type": "execute_result"
    }
   ],
   "source": [
    "\"5\" * 3"
   ]
  },
  {
   "cell_type": "code",
   "execution_count": 7,
   "id": "e7021e96-c655-4dd6-8514-32badf9ecc49",
   "metadata": {},
   "outputs": [
    {
     "ename": "TypeError",
     "evalue": "can only concatenate str (not \"int\") to str",
     "output_type": "error",
     "traceback": [
      "\u001b[1;31m---------------------------------------------------------------------------\u001b[0m",
      "\u001b[1;31mTypeError\u001b[0m                                 Traceback (most recent call last)",
      "Cell \u001b[1;32mIn[7], line 1\u001b[0m\n\u001b[1;32m----> 1\u001b[0m \u001b[38;5;124m\"\u001b[39m\u001b[38;5;124m5\u001b[39m\u001b[38;5;124m\"\u001b[39m \u001b[38;5;241m+\u001b[39m \u001b[38;5;241m2\u001b[39m\n",
      "\u001b[1;31mTypeError\u001b[0m: can only concatenate str (not \"int\") to str"
     ]
    }
   ],
   "source": [
    "\"5\" + 2 # it will throw an error"
   ]
  },
  {
   "cell_type": "code",
   "execution_count": 8,
   "id": "c36ebb34-e243-4062-bc8a-ea628f81045a",
   "metadata": {},
   "outputs": [],
   "source": [
    "#type casting/type conversion>> the process pf changing tha data type of a value/object"
   ]
  },
  {
   "cell_type": "code",
   "execution_count": 9,
   "id": "486e837b-333c-46a7-a280-4ffb0b13a3b0",
   "metadata": {},
   "outputs": [
    {
     "ename": "TypeError",
     "evalue": "can only concatenate str (not \"int\") to str",
     "output_type": "error",
     "traceback": [
      "\u001b[1;31m---------------------------------------------------------------------------\u001b[0m",
      "\u001b[1;31mTypeError\u001b[0m                                 Traceback (most recent call last)",
      "Cell \u001b[1;32mIn[9], line 3\u001b[0m\n\u001b[0;32m      1\u001b[0m a \u001b[38;5;241m=\u001b[39m \u001b[38;5;124m\"\u001b[39m\u001b[38;5;124m3\u001b[39m\u001b[38;5;124m\"\u001b[39m\n\u001b[0;32m      2\u001b[0m b \u001b[38;5;241m=\u001b[39m \u001b[38;5;241m2\u001b[39m\n\u001b[1;32m----> 3\u001b[0m a\u001b[38;5;241m+\u001b[39mb\n",
      "\u001b[1;31mTypeError\u001b[0m: can only concatenate str (not \"int\") to str"
     ]
    }
   ],
   "source": [
    "a = \"3\"\n",
    "b = 2\n",
    "a+b"
   ]
  },
  {
   "cell_type": "code",
   "execution_count": 10,
   "id": "9c0432cd-0d39-4700-a861-aca8ef45a343",
   "metadata": {},
   "outputs": [
    {
     "data": {
      "text/plain": [
       "str"
      ]
     },
     "execution_count": 10,
     "metadata": {},
     "output_type": "execute_result"
    }
   ],
   "source": [
    "type(a)"
   ]
  },
  {
   "cell_type": "code",
   "execution_count": 11,
   "id": "996b9316-0e61-4974-81e7-b8fca7e9fac8",
   "metadata": {},
   "outputs": [
    {
     "data": {
      "text/plain": [
       "5"
      ]
     },
     "execution_count": 11,
     "metadata": {},
     "output_type": "execute_result"
    }
   ],
   "source": [
    "a = \"3\"\n",
    "b = 2\n",
    "int(a)+b"
   ]
  },
  {
   "cell_type": "code",
   "execution_count": 12,
   "id": "88924307-8ed4-4e84-8171-4dec4b682c0b",
   "metadata": {},
   "outputs": [
    {
     "name": "stdout",
     "output_type": "stream",
     "text": [
      "<class 'str'>\n"
     ]
    }
   ],
   "source": [
    "a = \"3\"\n",
    "print(type(a))"
   ]
  },
  {
   "cell_type": "code",
   "execution_count": 13,
   "id": "b12e3b3f-ce12-4c0a-87ae-8c329105ac96",
   "metadata": {},
   "outputs": [
    {
     "ename": "SyntaxError",
     "evalue": "invalid syntax (3268937119.py, line 2)",
     "output_type": "error",
     "traceback": [
      "\u001b[1;36m  Cell \u001b[1;32mIn[13], line 2\u001b[1;36m\u001b[0m\n\u001b[1;33m    print(type(a))int\u001b[0m\n\u001b[1;37m                  ^\u001b[0m\n\u001b[1;31mSyntaxError\u001b[0m\u001b[1;31m:\u001b[0m invalid syntax\n"
     ]
    }
   ],
   "source": [
    "a = \"3\"\n",
    "print(type(a))int"
   ]
  },
  {
   "cell_type": "code",
   "execution_count": 14,
   "id": "edcacf54-dc00-4633-a8e0-631aba3a5b29",
   "metadata": {},
   "outputs": [
    {
     "name": "stdout",
     "output_type": "stream",
     "text": [
      "<class 'int'>\n"
     ]
    }
   ],
   "source": [
    "a = \"3\"\n",
    "print(type(int(a)))"
   ]
  },
  {
   "cell_type": "code",
   "execution_count": 15,
   "id": "f86bbb45-a478-481f-9c43-c0ca84b66a71",
   "metadata": {},
   "outputs": [
    {
     "data": {
      "text/plain": [
       "float"
      ]
     },
     "execution_count": 15,
     "metadata": {},
     "output_type": "execute_result"
    }
   ],
   "source": [
    "a = 6.2\n",
    "type(a)"
   ]
  },
  {
   "cell_type": "code",
   "execution_count": 16,
   "id": "be4e0cfd-20dd-4ecd-8c86-3fe48a7d8231",
   "metadata": {},
   "outputs": [
    {
     "data": {
      "text/plain": [
       "6"
      ]
     },
     "execution_count": 16,
     "metadata": {},
     "output_type": "execute_result"
    }
   ],
   "source": [
    "int(a)"
   ]
  },
  {
   "cell_type": "code",
   "execution_count": 19,
   "id": "16e3439c-301a-497e-b496-147242f9eece",
   "metadata": {},
   "outputs": [
    {
     "name": "stdout",
     "output_type": "stream",
     "text": [
      "<class 'float'>\n",
      "<class 'int'>\n"
     ]
    }
   ],
   "source": [
    "a = 6.2\n",
    "print (type(a))\n",
    "print(type(int(a)))"
   ]
  },
  {
   "cell_type": "code",
   "execution_count": 20,
   "id": "279576ea-cad4-4c12-b941-1fe86ff0bbea",
   "metadata": {},
   "outputs": [
    {
     "data": {
      "text/plain": [
       "int"
      ]
     },
     "execution_count": 20,
     "metadata": {},
     "output_type": "execute_result"
    }
   ],
   "source": [
    "b = 6.78\n",
    "type(b)\n",
    "float_value = int(b)\n",
    "type(float_value)"
   ]
  },
  {
   "cell_type": "code",
   "execution_count": 21,
   "id": "aff27700-a101-4e50-9f3b-a2ff900c1ad1",
   "metadata": {},
   "outputs": [
    {
     "data": {
      "text/plain": [
       "str"
      ]
     },
     "execution_count": 21,
     "metadata": {},
     "output_type": "execute_result"
    }
   ],
   "source": [
    "c = 65.5\n",
    "type(c)\n",
    "float_value = str(c)\n",
    "type(float_value)"
   ]
  },
  {
   "cell_type": "code",
   "execution_count": 22,
   "id": "8279385b-fbd7-4ebc-9307-6235dbded15f",
   "metadata": {},
   "outputs": [
    {
     "data": {
      "text/plain": [
       "int"
      ]
     },
     "execution_count": 22,
     "metadata": {},
     "output_type": "execute_result"
    }
   ],
   "source": [
    "#integer to float\n",
    "a = 2\n",
    "type(a)"
   ]
  },
  {
   "cell_type": "code",
   "execution_count": 23,
   "id": "94933db0-cc90-46e4-af70-cd9d76575528",
   "metadata": {},
   "outputs": [
    {
     "data": {
      "text/plain": [
       "2.0"
      ]
     },
     "execution_count": 23,
     "metadata": {},
     "output_type": "execute_result"
    }
   ],
   "source": [
    "float(a)"
   ]
  },
  {
   "cell_type": "code",
   "execution_count": 24,
   "id": "bddc43d1-951e-4a17-9e96-3bbf4254cf96",
   "metadata": {},
   "outputs": [
    {
     "data": {
      "text/plain": [
       "int"
      ]
     },
     "execution_count": 24,
     "metadata": {},
     "output_type": "execute_result"
    }
   ],
   "source": [
    "type(a)"
   ]
  },
  {
   "cell_type": "code",
   "execution_count": 25,
   "id": "a5cc4c03-eb9b-4eed-9cbb-8ee770ba41ce",
   "metadata": {},
   "outputs": [
    {
     "name": "stdout",
     "output_type": "stream",
     "text": [
      "<class 'float'>\n"
     ]
    }
   ],
   "source": [
    "print(type(float(a)))"
   ]
  },
  {
   "cell_type": "code",
   "execution_count": 26,
   "id": "1d9db0cb-5731-4636-ad5a-dd7057ad410c",
   "metadata": {},
   "outputs": [
    {
     "data": {
      "text/plain": [
       "str"
      ]
     },
     "execution_count": 26,
     "metadata": {},
     "output_type": "execute_result"
    }
   ],
   "source": [
    "#string to float\n",
    "d = \"6\"\n",
    "type(d)"
   ]
  },
  {
   "cell_type": "code",
   "execution_count": 27,
   "id": "c26cb5d4-175b-4846-a28e-5030cf1505f4",
   "metadata": {},
   "outputs": [
    {
     "data": {
      "text/plain": [
       "float"
      ]
     },
     "execution_count": 27,
     "metadata": {},
     "output_type": "execute_result"
    }
   ],
   "source": [
    "d = float(d)\n",
    "type(d)"
   ]
  },
  {
   "cell_type": "code",
   "execution_count": 29,
   "id": "c694ec95-f6f9-4e05-8227-69a8ea536831",
   "metadata": {},
   "outputs": [
    {
     "data": {
      "text/plain": [
       "int"
      ]
     },
     "execution_count": 29,
     "metadata": {},
     "output_type": "execute_result"
    }
   ],
   "source": [
    "#integer to string\n",
    "a = 15\n",
    "type(a)"
   ]
  },
  {
   "cell_type": "code",
   "execution_count": 31,
   "id": "501d2135-0f97-4c83-b6f1-266374dafb3e",
   "metadata": {},
   "outputs": [
    {
     "data": {
      "text/plain": [
       "str"
      ]
     },
     "execution_count": 31,
     "metadata": {},
     "output_type": "execute_result"
    }
   ],
   "source": [
    "a = str(a)\n",
    "type(a)"
   ]
  },
  {
   "cell_type": "code",
   "execution_count": 33,
   "id": "c2e48758-bb5d-4c15-b127-1fa5d95d4688",
   "metadata": {},
   "outputs": [
    {
     "data": {
      "text/plain": [
       "'15'"
      ]
     },
     "execution_count": 33,
     "metadata": {},
     "output_type": "execute_result"
    }
   ],
   "source": [
    "str(a)"
   ]
  },
  {
   "cell_type": "code",
   "execution_count": 34,
   "id": "e2a052a2-0586-4b9b-b443-1136e18b540f",
   "metadata": {},
   "outputs": [],
   "source": [
    "#typecasting>> imlicit and explict"
   ]
  },
  {
   "cell_type": "code",
   "execution_count": 35,
   "id": "8c42f5f6-d2d0-4f57-a4d2-05b395b73156",
   "metadata": {},
   "outputs": [
    {
     "data": {
      "text/plain": [
       "int"
      ]
     },
     "execution_count": 35,
     "metadata": {},
     "output_type": "execute_result"
    }
   ],
   "source": [
    "#imlicit typecasting\n",
    "a = 12\n",
    "type(a)"
   ]
  },
  {
   "cell_type": "code",
   "execution_count": 36,
   "id": "f5c92941-9ff6-499a-8e67-216d1708b173",
   "metadata": {},
   "outputs": [
    {
     "data": {
      "text/plain": [
       "8"
      ]
     },
     "execution_count": 36,
     "metadata": {},
     "output_type": "execute_result"
    }
   ],
   "source": [
    "#python uderstand the datatype\n",
    "6 + 2"
   ]
  },
  {
   "cell_type": "code",
   "execution_count": 37,
   "id": "403d2222-5d9b-4807-b90d-f76797dd8805",
   "metadata": {},
   "outputs": [
    {
     "data": {
      "text/plain": [
       "8.5"
      ]
     },
     "execution_count": 37,
     "metadata": {},
     "output_type": "execute_result"
    }
   ],
   "source": [
    "3.5 + 5"
   ]
  },
  {
   "cell_type": "code",
   "execution_count": 38,
   "id": "61fc2a81-89cc-4baf-9045-3a7783f712ec",
   "metadata": {},
   "outputs": [
    {
     "data": {
      "text/plain": [
       "'Gaurav Raj'"
      ]
     },
     "execution_count": 38,
     "metadata": {},
     "output_type": "execute_result"
    }
   ],
   "source": [
    "a = \"Gaurav\"\n",
    "b = \" Raj\"\n",
    "a + b"
   ]
  },
  {
   "cell_type": "code",
   "execution_count": 40,
   "id": "5015951f-d363-4212-a9bb-6ee119ba471f",
   "metadata": {},
   "outputs": [
    {
     "data": {
      "text/plain": [
       "'25 25'"
      ]
     },
     "execution_count": 40,
     "metadata": {},
     "output_type": "execute_result"
    }
   ],
   "source": [
    "\"25\" + \" 25\""
   ]
  },
  {
   "cell_type": "code",
   "execution_count": 41,
   "id": "b0c044ef-5115-4331-a076-f212cf13a559",
   "metadata": {},
   "outputs": [
    {
     "data": {
      "text/plain": [
       "False"
      ]
     },
     "execution_count": 41,
     "metadata": {},
     "output_type": "execute_result"
    }
   ],
   "source": [
    "#bool\n",
    "bool(0)"
   ]
  },
  {
   "cell_type": "code",
   "execution_count": 42,
   "id": "846d6425-8be1-46d3-955a-5b2ed0240b37",
   "metadata": {},
   "outputs": [
    {
     "data": {
      "text/plain": [
       "True"
      ]
     },
     "execution_count": 42,
     "metadata": {},
     "output_type": "execute_result"
    }
   ],
   "source": [
    "bool(1)"
   ]
  },
  {
   "cell_type": "code",
   "execution_count": 43,
   "id": "75a09b26-9f07-4dd3-8b74-3f83941454c1",
   "metadata": {},
   "outputs": [
    {
     "data": {
      "text/plain": [
       "True"
      ]
     },
     "execution_count": 43,
     "metadata": {},
     "output_type": "execute_result"
    }
   ],
   "source": [
    "bool(100)"
   ]
  },
  {
   "cell_type": "code",
   "execution_count": 44,
   "id": "978ed8af-22c5-46db-b818-fd6136df86d6",
   "metadata": {},
   "outputs": [
    {
     "data": {
      "text/plain": [
       "True"
      ]
     },
     "execution_count": 44,
     "metadata": {},
     "output_type": "execute_result"
    }
   ],
   "source": [
    "bool(\"Gaurav\")"
   ]
  },
  {
   "cell_type": "code",
   "execution_count": 45,
   "id": "b2233f35-0fb9-4010-8a17-d0c5f4170e05",
   "metadata": {},
   "outputs": [
    {
     "data": {
      "text/plain": [
       "False"
      ]
     },
     "execution_count": 45,
     "metadata": {},
     "output_type": "execute_result"
    }
   ],
   "source": [
    "bool(\"\")"
   ]
  },
  {
   "cell_type": "code",
   "execution_count": 46,
   "id": "533ca4ce-26ca-4e1a-ac85-cc9acddff6ea",
   "metadata": {},
   "outputs": [
    {
     "data": {
      "text/plain": [
       "True"
      ]
     },
     "execution_count": 46,
     "metadata": {},
     "output_type": "execute_result"
    }
   ],
   "source": [
    "bool(-5)"
   ]
  }
 ],
 "metadata": {
  "kernelspec": {
   "display_name": "Python 3 (ipykernel)",
   "language": "python",
   "name": "python3"
  },
  "language_info": {
   "codemirror_mode": {
    "name": "ipython",
    "version": 3
   },
   "file_extension": ".py",
   "mimetype": "text/x-python",
   "name": "python",
   "nbconvert_exporter": "python",
   "pygments_lexer": "ipython3",
   "version": "3.13.5"
  }
 },
 "nbformat": 4,
 "nbformat_minor": 5
}
