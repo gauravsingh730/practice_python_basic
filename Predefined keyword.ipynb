{
 "cells": [
  {
   "cell_type": "code",
   "execution_count": 56,
   "id": "534a68cc-4eb3-4e91-88fc-829f490742b0",
   "metadata": {},
   "outputs": [
    {
     "name": "stdout",
     "output_type": "stream",
     "text": [
      "Hello world\n"
     ]
    }
   ],
   "source": [
    "print(\"Hello world\")"
   ]
  },
  {
   "cell_type": "code",
   "execution_count": 2,
   "id": "07291b85-65ad-4266-8d0b-347c408f78f7",
   "metadata": {},
   "outputs": [],
   "source": [
    "a = 3"
   ]
  },
  {
   "cell_type": "code",
   "execution_count": 3,
   "id": "442577fd-176b-4828-aa7c-3da806179a9d",
   "metadata": {},
   "outputs": [
    {
     "data": {
      "text/plain": [
       "3"
      ]
     },
     "execution_count": 3,
     "metadata": {},
     "output_type": "execute_result"
    }
   ],
   "source": [
    "a"
   ]
  },
  {
   "cell_type": "raw",
   "id": "ee1055cc-6569-45fe-bb22-88fc7eec90e6",
   "metadata": {},
   "source": [
    "Variables/identifiers >>placeholders where we keep variety of data which we can use to write logic\n",
    "#Numbers>> integers/float\n",
    "#characters>> string in python\n",
    "#True/False >> bollean\n",
    "#None\n",
    "#complex"
   ]
  },
  {
   "cell_type": "code",
   "execution_count": 4,
   "id": "df8337e0-5c05-406e-a317-68438b000eec",
   "metadata": {},
   "outputs": [
    {
     "data": {
      "text/plain": [
       "3"
      ]
     },
     "execution_count": 4,
     "metadata": {},
     "output_type": "execute_result"
    }
   ],
   "source": [
    "b = 3\n",
    "b"
   ]
  },
  {
   "cell_type": "raw",
   "id": "b211c58c-cb65-42e4-af89-e01cc9945861",
   "metadata": {},
   "source": [
    "variable is reserved memory space for storing value"
   ]
  },
  {
   "cell_type": "code",
   "execution_count": 5,
   "id": "518ab0d8-2feb-4b0f-902c-44aa32c12160",
   "metadata": {},
   "outputs": [],
   "source": [
    "b = 4.2"
   ]
  },
  {
   "cell_type": "code",
   "execution_count": 6,
   "id": "791ab06c-eea0-4d28-bd2b-2af625f007a4",
   "metadata": {},
   "outputs": [
    {
     "data": {
      "text/plain": [
       "4.2"
      ]
     },
     "execution_count": 6,
     "metadata": {},
     "output_type": "execute_result"
    }
   ],
   "source": [
    "b"
   ]
  },
  {
   "cell_type": "raw",
   "id": "01117cfe-da73-4cc5-807d-6e1e3d79b260",
   "metadata": {},
   "source": [
    "a memory space will be created with value of the variable"
   ]
  },
  {
   "cell_type": "code",
   "execution_count": 9,
   "id": "406507f5-5e65-4e10-8566-1f967a44f887",
   "metadata": {},
   "outputs": [
    {
     "data": {
      "text/plain": [
       "'Gaurav'"
      ]
     },
     "execution_count": 9,
     "metadata": {},
     "output_type": "execute_result"
    }
   ],
   "source": [
    "c = \"Gaurav\"\n",
    "c"
   ]
  },
  {
   "cell_type": "code",
   "execution_count": 11,
   "id": "18fd721f-e6c1-475a-80aa-ff2f9d786e66",
   "metadata": {},
   "outputs": [
    {
     "data": {
      "text/plain": [
       "str"
      ]
     },
     "execution_count": 11,
     "metadata": {},
     "output_type": "execute_result"
    }
   ],
   "source": [
    "type(c)"
   ]
  },
  {
   "cell_type": "code",
   "execution_count": 12,
   "id": "79ecdef9-0528-4a27-ad4d-fa37e359143f",
   "metadata": {},
   "outputs": [
    {
     "data": {
      "text/plain": [
       "4.5"
      ]
     },
     "execution_count": 12,
     "metadata": {},
     "output_type": "execute_result"
    }
   ],
   "source": [
    "b = 4.5\n",
    "b"
   ]
  },
  {
   "cell_type": "code",
   "execution_count": 13,
   "id": "961f7133-d7d7-4862-8499-28ae05bcb045",
   "metadata": {},
   "outputs": [
    {
     "data": {
      "text/plain": [
       "float"
      ]
     },
     "execution_count": 13,
     "metadata": {},
     "output_type": "execute_result"
    }
   ],
   "source": [
    "type(b)"
   ]
  },
  {
   "cell_type": "code",
   "execution_count": 15,
   "id": "e4be2eb2-544a-4de0-8bf9-b186e5eec4eb",
   "metadata": {},
   "outputs": [
    {
     "data": {
      "text/plain": [
       "bool"
      ]
     },
     "execution_count": 15,
     "metadata": {},
     "output_type": "execute_result"
    }
   ],
   "source": [
    "c = True\n",
    "type(c)"
   ]
  },
  {
   "cell_type": "code",
   "execution_count": 19,
   "id": "d65c511d-6b4b-44ca-a7da-1d87dac9139f",
   "metadata": {},
   "outputs": [
    {
     "data": {
      "text/plain": [
       "bool"
      ]
     },
     "execution_count": 19,
     "metadata": {},
     "output_type": "execute_result"
    }
   ],
   "source": [
    "d = False\n",
    "type(d)"
   ]
  },
  {
   "cell_type": "code",
   "execution_count": 20,
   "id": "ec985a50-7416-4557-a227-2e9d92c0115a",
   "metadata": {},
   "outputs": [
    {
     "data": {
      "text/plain": [
       "0"
      ]
     },
     "execution_count": 20,
     "metadata": {},
     "output_type": "execute_result"
    }
   ],
   "source": [
    "True*False"
   ]
  },
  {
   "cell_type": "code",
   "execution_count": 21,
   "id": "85d629fa-58c2-4db9-8e2b-aa48b1cd4f60",
   "metadata": {},
   "outputs": [
    {
     "ename": "ZeroDivisionError",
     "evalue": "division by zero",
     "output_type": "error",
     "traceback": [
      "\u001b[1;31m---------------------------------------------------------------------------\u001b[0m",
      "\u001b[1;31mZeroDivisionError\u001b[0m                         Traceback (most recent call last)",
      "Cell \u001b[1;32mIn[21], line 1\u001b[0m\n\u001b[1;32m----> 1\u001b[0m \u001b[38;5;28;01mTrue\u001b[39;00m\u001b[38;5;241m/\u001b[39m\u001b[38;5;28;01mFalse\u001b[39;00m\n",
      "\u001b[1;31mZeroDivisionError\u001b[0m: division by zero"
     ]
    }
   ],
   "source": [
    "True/False"
   ]
  },
  {
   "cell_type": "raw",
   "id": "93e93f0d-10f1-4269-b333-0d2fa4cdf17b",
   "metadata": {},
   "source": [
    "True/False>> it will throw an error"
   ]
  },
  {
   "cell_type": "code",
   "execution_count": 26,
   "id": "31b17ab6-e2ef-40c1-a799-a4a3b90320a5",
   "metadata": {},
   "outputs": [],
   "source": [
    "f = None\n",
    "f"
   ]
  },
  {
   "cell_type": "code",
   "execution_count": 27,
   "id": "1994dd3f-9c6d-4a0e-afbf-9f2a24653dde",
   "metadata": {},
   "outputs": [],
   "source": [
    "f"
   ]
  },
  {
   "cell_type": "code",
   "execution_count": 28,
   "id": "6aff7974-968c-4214-9c8d-149d8c1f716a",
   "metadata": {},
   "outputs": [
    {
     "data": {
      "text/plain": [
       "NoneType"
      ]
     },
     "execution_count": 28,
     "metadata": {},
     "output_type": "execute_result"
    }
   ],
   "source": [
    "type(f)"
   ]
  },
  {
   "cell_type": "raw",
   "id": "2a99eddd-6870-4d44-a827-713b69f75bfd",
   "metadata": {},
   "source": [
    "x+iy>> complex number"
   ]
  },
  {
   "cell_type": "code",
   "execution_count": 29,
   "id": "9a794b0c-d48a-4d22-88cb-f045adf97a72",
   "metadata": {},
   "outputs": [],
   "source": [
    "com = 5+6j"
   ]
  },
  {
   "cell_type": "code",
   "execution_count": 30,
   "id": "112c0f72-af9c-408b-8e5a-fc1b2c06a389",
   "metadata": {},
   "outputs": [
    {
     "data": {
      "text/plain": [
       "complex"
      ]
     },
     "execution_count": 30,
     "metadata": {},
     "output_type": "execute_result"
    }
   ],
   "source": [
    "type(com)"
   ]
  },
  {
   "cell_type": "code",
   "execution_count": 32,
   "id": "3e2d03dc-d507-4d96-86ed-a5d2185402bd",
   "metadata": {},
   "outputs": [
    {
     "data": {
      "text/plain": [
       "5.0"
      ]
     },
     "execution_count": 32,
     "metadata": {},
     "output_type": "execute_result"
    }
   ],
   "source": [
    "com.real"
   ]
  },
  {
   "cell_type": "raw",
   "id": "83f871be-2578-4c5d-b27a-6c1875856768",
   "metadata": {},
   "source": [
    "com.imag"
   ]
  },
  {
   "cell_type": "raw",
   "id": "8f4e55d1-ba50-48b5-b5ca-395cde7e2b51",
   "metadata": {},
   "source": [
    "Rules of defining a variable>> A variable start with a letter(alphabet) or underscore\n",
    "character"
   ]
  },
  {
   "cell_type": "raw",
   "id": "c06fb701-1a1c-4d4b-8391-cbb867a72e3b",
   "metadata": {},
   "source": [
    "invalid ways"
   ]
  },
  {
   "cell_type": "code",
   "execution_count": 36,
   "id": "93b3704d-c4f9-4cfd-8364-aa48efacfe43",
   "metadata": {},
   "outputs": [
    {
     "ename": "SyntaxError",
     "evalue": "cannot assign to literal here. Maybe you meant '==' instead of '='? (2414822714.py, line 1)",
     "output_type": "error",
     "traceback": [
      "\u001b[1;36m  Cell \u001b[1;32mIn[36], line 1\u001b[1;36m\u001b[0m\n\u001b[1;33m    5 = a\u001b[0m\n\u001b[1;37m    ^\u001b[0m\n\u001b[1;31mSyntaxError\u001b[0m\u001b[1;31m:\u001b[0m cannot assign to literal here. Maybe you meant '==' instead of '='?\n"
     ]
    }
   ],
   "source": [
    "5 = a"
   ]
  },
  {
   "cell_type": "code",
   "execution_count": 37,
   "id": "e8bcf9bd-f908-41fa-bb67-066445bb9526",
   "metadata": {},
   "outputs": [
    {
     "ename": "SyntaxError",
     "evalue": "cannot assign to literal here. Maybe you meant '==' instead of '='? (808249952.py, line 1)",
     "output_type": "error",
     "traceback": [
      "\u001b[1;36m  Cell \u001b[1;32mIn[37], line 1\u001b[1;36m\u001b[0m\n\u001b[1;33m    2.3 = b\u001b[0m\n\u001b[1;37m    ^\u001b[0m\n\u001b[1;31mSyntaxError\u001b[0m\u001b[1;31m:\u001b[0m cannot assign to literal here. Maybe you meant '==' instead of '='?\n"
     ]
    }
   ],
   "source": [
    "2.3 = b"
   ]
  },
  {
   "cell_type": "code",
   "execution_count": 38,
   "id": "bf08f26a-a756-4726-8da5-fdac893b4733",
   "metadata": {},
   "outputs": [
    {
     "ename": "SyntaxError",
     "evalue": "cannot assign to literal here. Maybe you meant '==' instead of '='? (1678270170.py, line 1)",
     "output_type": "error",
     "traceback": [
      "\u001b[1;36m  Cell \u001b[1;32mIn[38], line 1\u001b[1;36m\u001b[0m\n\u001b[1;33m    \"a\" = 50\u001b[0m\n\u001b[1;37m    ^\u001b[0m\n\u001b[1;31mSyntaxError\u001b[0m\u001b[1;31m:\u001b[0m cannot assign to literal here. Maybe you meant '==' instead of '='?\n"
     ]
    }
   ],
   "source": [
    "\"a\" = 50"
   ]
  },
  {
   "cell_type": "code",
   "execution_count": 39,
   "id": "c3bf2351-9c3a-458f-adb7-0c7a0db80788",
   "metadata": {},
   "outputs": [
    {
     "ename": "SyntaxError",
     "evalue": "cannot assign to literal here. Maybe you meant '==' instead of '='? (310222110.py, line 1)",
     "output_type": "error",
     "traceback": [
      "\u001b[1;36m  Cell \u001b[1;32mIn[39], line 1\u001b[1;36m\u001b[0m\n\u001b[1;33m    1 = abc\u001b[0m\n\u001b[1;37m    ^\u001b[0m\n\u001b[1;31mSyntaxError\u001b[0m\u001b[1;31m:\u001b[0m cannot assign to literal here. Maybe you meant '==' instead of '='?\n"
     ]
    }
   ],
   "source": [
    "1 = abc"
   ]
  },
  {
   "cell_type": "raw",
   "id": "c75fcfe9-190e-4453-aba0-01f8cbdafc2a",
   "metadata": {},
   "source": [
    "Valid Ways"
   ]
  },
  {
   "cell_type": "code",
   "execution_count": 44,
   "id": "47b453e7-b53c-47dd-a94e-a8ecc62d9d87",
   "metadata": {},
   "outputs": [],
   "source": [
    "name = \"gaurav\""
   ]
  },
  {
   "cell_type": "code",
   "execution_count": 45,
   "id": "f34af051-d107-4ef7-a1d3-b92399ed05a8",
   "metadata": {},
   "outputs": [
    {
     "data": {
      "text/plain": [
       "'gaurav'"
      ]
     },
     "execution_count": 45,
     "metadata": {},
     "output_type": "execute_result"
    }
   ],
   "source": [
    "name"
   ]
  },
  {
   "cell_type": "code",
   "execution_count": 43,
   "id": "35db88fa-b366-41f8-b552-e9895ad901a6",
   "metadata": {},
   "outputs": [],
   "source": [
    "city = \"patna\""
   ]
  },
  {
   "cell_type": "code",
   "execution_count": 46,
   "id": "20cb31d4-fcdc-4965-9400-f5c9eab94c66",
   "metadata": {},
   "outputs": [
    {
     "data": {
      "text/plain": [
       "'patna'"
      ]
     },
     "execution_count": 46,
     "metadata": {},
     "output_type": "execute_result"
    }
   ],
   "source": [
    "city"
   ]
  },
  {
   "cell_type": "raw",
   "id": "f37633fc-7aa3-4a2f-ab9c-4030062eb4c4",
   "metadata": {},
   "source": [
    "comments"
   ]
  },
  {
   "cell_type": "code",
   "execution_count": 47,
   "id": "6c664aee-764f-424c-94a6-89eb682041fa",
   "metadata": {},
   "outputs": [],
   "source": [
    "# this is way to define comments\n",
    "a = 3\n",
    "b = 5"
   ]
  },
  {
   "cell_type": "code",
   "execution_count": 48,
   "id": "b39a3898-2698-4f98-b130-bc1691bb1586",
   "metadata": {},
   "outputs": [
    {
     "data": {
      "text/plain": [
       "3"
      ]
     },
     "execution_count": 48,
     "metadata": {},
     "output_type": "execute_result"
    }
   ],
   "source": [
    "a"
   ]
  },
  {
   "cell_type": "code",
   "execution_count": 49,
   "id": "77df37b6-7134-4ad6-8781-768bb1ace37f",
   "metadata": {},
   "outputs": [
    {
     "data": {
      "text/plain": [
       "5"
      ]
     },
     "execution_count": 49,
     "metadata": {},
     "output_type": "execute_result"
    }
   ],
   "source": [
    "#this is a lecture on variable\n",
    "a = 5\n",
    "a"
   ]
  },
  {
   "cell_type": "code",
   "execution_count": 50,
   "id": "c30ab198-44f8-4a06-8924-b9bd9c3672be",
   "metadata": {},
   "outputs": [],
   "source": [
    "#this is my first line of comment\n",
    "#this is my second line of \n",
    "a = 5"
   ]
  },
  {
   "cell_type": "code",
   "execution_count": 52,
   "id": "c1d541e7-c57c-443f-93e7-9fa31330eb38",
   "metadata": {},
   "outputs": [
    {
     "data": {
      "text/plain": [
       "'Gaurav'"
      ]
     },
     "execution_count": 52,
     "metadata": {},
     "output_type": "execute_result"
    }
   ],
   "source": [
    "#Multiline comments\n",
    "'''\n",
    "this is a multiline comment\n",
    "I am learning python for data analytic\n",
    "from pw skills\n",
    "'''\n",
    "a = \"Gaurav\"\n",
    "a"
   ]
  },
  {
   "cell_type": "code",
   "execution_count": 54,
   "id": "a3195312-5a47-4aa9-80a2-ff16a8b482d6",
   "metadata": {},
   "outputs": [
    {
     "data": {
      "text/plain": [
       "'Gaurav'"
      ]
     },
     "execution_count": 54,
     "metadata": {},
     "output_type": "execute_result"
    }
   ],
   "source": [
    "\"\"\"\n",
    "this is a multiline comment\n",
    "I am learning python for data analytic\n",
    "from pw skills\n",
    "\"\"\"\n",
    "a = \"Gaurav\"\n",
    "a"
   ]
  },
  {
   "cell_type": "code",
   "execution_count": 55,
   "id": "c1874d20-30e8-4d6c-b5d0-b7a570d79184",
   "metadata": {},
   "outputs": [
    {
     "name": "stdout",
     "output_type": "stream",
     "text": [
      "hello world\n"
     ]
    },
    {
     "data": {
      "text/plain": [
       "str"
      ]
     },
     "execution_count": 55,
     "metadata": {},
     "output_type": "execute_result"
    }
   ],
   "source": [
    "print(\"hello world\")\n",
    "type(a)"
   ]
  },
  {
   "cell_type": "code",
   "execution_count": null,
   "id": "ef81bc91-3023-4ea4-a2be-ce0e0ab9c7b3",
   "metadata": {},
   "outputs": [],
   "source": [
    "#keywords>> are predefined words that hold a special meaning"
   ]
  },
  {
   "cell_type": "code",
   "execution_count": 57,
   "id": "facdcf0d-7f18-4927-9b7a-4038d90538c4",
   "metadata": {},
   "outputs": [
    {
     "name": "stdout",
     "output_type": "stream",
     "text": [
      "\n",
      "Here is a list of the Python keywords.  Enter any keyword to get more help.\n",
      "\n",
      "False               class               from                or\n",
      "None                continue            global              pass\n",
      "True                def                 if                  raise\n",
      "and                 del                 import              return\n",
      "as                  elif                in                  try\n",
      "assert              else                is                  while\n",
      "async               except              lambda              with\n",
      "await               finally             nonlocal            yield\n",
      "break               for                 not                 \n",
      "\n"
     ]
    }
   ],
   "source": [
    "help(\"keywords\")"
   ]
  },
  {
   "cell_type": "code",
   "execution_count": 58,
   "id": "ee7270bc-daaa-4798-881a-9f45465b63ba",
   "metadata": {},
   "outputs": [
    {
     "name": "stdout",
     "output_type": "stream",
     "text": [
      "True\n"
     ]
    }
   ],
   "source": [
    "#indentation>> more readble\n",
    "if  3 > 2:\n",
    "    print(\"True\")"
   ]
  },
  {
   "cell_type": "code",
   "execution_count": 3,
   "id": "0b3ced61-74f6-4059-bb46-4274b6e57ae8",
   "metadata": {},
   "outputs": [],
   "source": [
    "a = 3 #statement>> fundamental block of code\n",
    "name = \"Gaurav\"\n",
    "\n",
    "#statment can be many types>> expression, assignment, condition statement, Loop"
   ]
  },
  {
   "cell_type": "code",
   "execution_count": 64,
   "id": "ff05c5a0-d84f-4f67-8cae-b31fb5afdc36",
   "metadata": {},
   "outputs": [],
   "source": [
    "#assignment statement\n",
    "a = 12"
   ]
  },
  {
   "cell_type": "code",
   "execution_count": 65,
   "id": "8ef5aa70-7698-42ef-967f-35a85e59c4d4",
   "metadata": {},
   "outputs": [
    {
     "data": {
      "text/plain": [
       "3"
      ]
     },
     "execution_count": 65,
     "metadata": {},
     "output_type": "execute_result"
    }
   ],
   "source": [
    "a = 1 #assignment\n",
    "b = 2 #assigment\n",
    "c = \"Gaurav\" #This is also assisgnment\n",
    "a+b #this is expression statement"
   ]
  },
  {
   "cell_type": "code",
   "execution_count": 1,
   "id": "8edf40db-a4e9-47eb-8d0b-5c7dff89c08d",
   "metadata": {},
   "outputs": [
    {
     "name": "stdin",
     "output_type": "stream",
     "text": [
      "enter your name Gaurav Raj\n"
     ]
    }
   ],
   "source": [
    "#input\n",
    "name = input(\"enter your name: \")"
   ]
  },
  {
   "cell_type": "code",
   "execution_count": 2,
   "id": "8ff9a68c-804b-426d-a11c-c59a1d911cf4",
   "metadata": {},
   "outputs": [
    {
     "data": {
      "text/plain": [
       "'Gaurav Raj'"
      ]
     },
     "execution_count": 2,
     "metadata": {},
     "output_type": "execute_result"
    }
   ],
   "source": [
    "name"
   ]
  },
  {
   "cell_type": "code",
   "execution_count": 4,
   "id": "1ca6a5c1-179b-400e-ae75-6aaad9597a97",
   "metadata": {},
   "outputs": [
    {
     "data": {
      "text/plain": [
       "str"
      ]
     },
     "execution_count": 4,
     "metadata": {},
     "output_type": "execute_result"
    }
   ],
   "source": [
    "type(name)"
   ]
  },
  {
   "cell_type": "code",
   "execution_count": 6,
   "id": "1287e0c6-ce53-4dcb-a719-b23d4614341e",
   "metadata": {},
   "outputs": [
    {
     "data": {
      "text/plain": [
       "str"
      ]
     },
     "execution_count": 6,
     "metadata": {},
     "output_type": "execute_result"
    }
   ],
   "source": [
    "a = \"4.6\"\n",
    "type(a)"
   ]
  },
  {
   "cell_type": "code",
   "execution_count": 7,
   "id": "e3f64346-046e-433e-9230-ecf3b48db6c2",
   "metadata": {},
   "outputs": [
    {
     "data": {
      "text/plain": [
       "float"
      ]
     },
     "execution_count": 7,
     "metadata": {},
     "output_type": "execute_result"
    }
   ],
   "source": [
    "type(float(a))"
   ]
  },
  {
   "cell_type": "code",
   "execution_count": 8,
   "id": "8bd250db-d8f2-4ade-913e-cd76d9dd277c",
   "metadata": {},
   "outputs": [
    {
     "data": {
      "text/plain": [
       "str"
      ]
     },
     "execution_count": 8,
     "metadata": {},
     "output_type": "execute_result"
    }
   ],
   "source": [
    "d = \"58\"\n",
    "type(d)"
   ]
  },
  {
   "cell_type": "code",
   "execution_count": 9,
   "id": "134d2f94-5038-4c57-8f1d-e4b44782c1c7",
   "metadata": {},
   "outputs": [
    {
     "data": {
      "text/plain": [
       "int"
      ]
     },
     "execution_count": 9,
     "metadata": {},
     "output_type": "execute_result"
    }
   ],
   "source": [
    "type(int(d))"
   ]
  },
  {
   "cell_type": "code",
   "execution_count": 10,
   "id": "5ad626df-3d58-4d00-9c9c-d667e3249753",
   "metadata": {},
   "outputs": [
    {
     "data": {
      "text/plain": [
       "58"
      ]
     },
     "execution_count": 10,
     "metadata": {},
     "output_type": "execute_result"
    }
   ],
   "source": [
    "int(d)"
   ]
  },
  {
   "cell_type": "code",
   "execution_count": 11,
   "id": "5c4e544b-064c-453f-a660-352aa21501f0",
   "metadata": {},
   "outputs": [
    {
     "data": {
      "text/plain": [
       "58.0"
      ]
     },
     "execution_count": 11,
     "metadata": {},
     "output_type": "execute_result"
    }
   ],
   "source": [
    "float(d)"
   ]
  },
  {
   "cell_type": "code",
   "execution_count": 12,
   "id": "7f668619-5835-4605-a57e-489375b7abcc",
   "metadata": {},
   "outputs": [
    {
     "data": {
      "text/plain": [
       "bool"
      ]
     },
     "execution_count": 12,
     "metadata": {},
     "output_type": "execute_result"
    }
   ],
   "source": [
    "a = True\n",
    "type(a)"
   ]
  },
  {
   "cell_type": "code",
   "execution_count": 13,
   "id": "56543f08-61f8-4bb6-bcad-b5b5cd470e1a",
   "metadata": {},
   "outputs": [
    {
     "data": {
      "text/plain": [
       "True"
      ]
     },
     "execution_count": 13,
     "metadata": {},
     "output_type": "execute_result"
    }
   ],
   "source": [
    "bool(d)"
   ]
  },
  {
   "cell_type": "code",
   "execution_count": 15,
   "id": "e4723b8e-d9cb-4e8b-b5ee-3e9342c70a6a",
   "metadata": {},
   "outputs": [
    {
     "data": {
      "text/plain": [
       "str"
      ]
     },
     "execution_count": 15,
     "metadata": {},
     "output_type": "execute_result"
    }
   ],
   "source": [
    "a = \"Gaurav\"\n",
    "type(a)"
   ]
  },
  {
   "cell_type": "code",
   "execution_count": 17,
   "id": "36a33a1d-5e25-4bae-97a7-b6d627e6428e",
   "metadata": {},
   "outputs": [
    {
     "data": {
      "text/plain": [
       "True"
      ]
     },
     "execution_count": 17,
     "metadata": {},
     "output_type": "execute_result"
    }
   ],
   "source": [
    "bool(a)"
   ]
  },
  {
   "cell_type": "code",
   "execution_count": 19,
   "id": "4254280b-8f77-43df-8c03-c1003e834a46",
   "metadata": {},
   "outputs": [
    {
     "name": "stdout",
     "output_type": "stream",
     "text": [
      "hello\n"
     ]
    }
   ],
   "source": [
    "print(\"hello\")"
   ]
  },
  {
   "cell_type": "code",
   "execution_count": 20,
   "id": "a5134c2d-3658-4ba8-aaf6-327e483d6ba3",
   "metadata": {},
   "outputs": [],
   "source": [
    "#print = \"Gaurav\""
   ]
  },
  {
   "cell_type": "code",
   "execution_count": 1,
   "id": "0e001619-8e89-452f-9549-f08e14eecdb2",
   "metadata": {},
   "outputs": [
    {
     "name": "stdout",
     "output_type": "stream",
     "text": [
      "world\n"
     ]
    }
   ],
   "source": [
    "print(\"world\")"
   ]
  }
 ],
 "metadata": {
  "kernelspec": {
   "display_name": "Python 3 (ipykernel)",
   "language": "python",
   "name": "python3"
  },
  "language_info": {
   "codemirror_mode": {
    "name": "ipython",
    "version": 3
   },
   "file_extension": ".py",
   "mimetype": "text/x-python",
   "name": "python",
   "nbconvert_exporter": "python",
   "pygments_lexer": "ipython3",
   "version": "3.13.5"
  }
 },
 "nbformat": 4,
 "nbformat_minor": 5
}
