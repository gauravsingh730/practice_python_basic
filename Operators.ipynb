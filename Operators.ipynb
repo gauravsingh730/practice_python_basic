{
 "cells": [
  {
   "cell_type": "code",
   "execution_count": 2,
   "id": "14c1d36b-c28a-41c1-8e17-19f8dfeac7ff",
   "metadata": {},
   "outputs": [],
   "source": [
    "#operators >> special keywords to perform operators>> manage and computation"
   ]
  },
  {
   "cell_type": "code",
   "execution_count": 3,
   "id": "45598dd6-446b-4dd2-8f1d-9350b8d167a5",
   "metadata": {},
   "outputs": [
    {
     "data": {
      "text/plain": [
       "3"
      ]
     },
     "execution_count": 3,
     "metadata": {},
     "output_type": "execute_result"
    }
   ],
   "source": [
    "a = 2\n",
    "b = 1\n",
    "a+b"
   ]
  },
  {
   "cell_type": "code",
   "execution_count": 4,
   "id": "05ed631f-bb11-4471-b6f4-3db3807280d2",
   "metadata": {},
   "outputs": [],
   "source": [
    "#arithmatic operators"
   ]
  },
  {
   "cell_type": "code",
   "execution_count": 5,
   "id": "912b88bf-0ff7-485c-ac93-8c9fb10e2927",
   "metadata": {},
   "outputs": [
    {
     "data": {
      "text/plain": [
       "3"
      ]
     },
     "execution_count": 5,
     "metadata": {},
     "output_type": "execute_result"
    }
   ],
   "source": [
    "add = a+b\n",
    "add"
   ]
  },
  {
   "cell_type": "code",
   "execution_count": 6,
   "id": "120bc402-224f-4f28-9648-75caab8797bd",
   "metadata": {},
   "outputs": [
    {
     "data": {
      "text/plain": [
       "25"
      ]
     },
     "execution_count": 6,
     "metadata": {},
     "output_type": "execute_result"
    }
   ],
   "source": [
    "50-25"
   ]
  },
  {
   "cell_type": "code",
   "execution_count": 7,
   "id": "f373c6d0-9eb6-4313-a6a8-1b23820b39ce",
   "metadata": {},
   "outputs": [
    {
     "data": {
      "text/plain": [
       "-2"
      ]
     },
     "execution_count": 7,
     "metadata": {},
     "output_type": "execute_result"
    }
   ],
   "source": [
    "7-9"
   ]
  },
  {
   "cell_type": "code",
   "execution_count": 8,
   "id": "ee308a9a-435d-47ed-a6ca-7ae5a03baaa5",
   "metadata": {},
   "outputs": [
    {
     "data": {
      "text/plain": [
       "15"
      ]
     },
     "execution_count": 8,
     "metadata": {},
     "output_type": "execute_result"
    }
   ],
   "source": [
    "3 * 5"
   ]
  },
  {
   "cell_type": "code",
   "execution_count": 9,
   "id": "6c0d74fc-17d7-49fe-a535-b50d1bac369e",
   "metadata": {},
   "outputs": [
    {
     "data": {
      "text/plain": [
       "6.25"
      ]
     },
     "execution_count": 9,
     "metadata": {},
     "output_type": "execute_result"
    }
   ],
   "source": [
    "25/4"
   ]
  },
  {
   "cell_type": "code",
   "execution_count": 10,
   "id": "c9f69514-c1e5-4cbd-90fb-d63b71164baf",
   "metadata": {},
   "outputs": [
    {
     "data": {
      "text/plain": [
       "6.5"
      ]
     },
     "execution_count": 10,
     "metadata": {},
     "output_type": "execute_result"
    }
   ],
   "source": [
    "26/4"
   ]
  },
  {
   "cell_type": "code",
   "execution_count": 11,
   "id": "0d96eb05-a4b4-4c6f-9373-dd4bfd021231",
   "metadata": {},
   "outputs": [
    {
     "data": {
      "text/plain": [
       "3"
      ]
     },
     "execution_count": 11,
     "metadata": {},
     "output_type": "execute_result"
    }
   ],
   "source": [
    "#modulus operator\n",
    "24 % 7"
   ]
  },
  {
   "cell_type": "code",
   "execution_count": 13,
   "id": "7491b96e-59da-4fd6-8447-bbebf475b7bd",
   "metadata": {},
   "outputs": [
    {
     "data": {
      "text/plain": [
       "32"
      ]
     },
     "execution_count": 13,
     "metadata": {},
     "output_type": "execute_result"
    }
   ],
   "source": [
    "2 ** 5 #2 to power 5"
   ]
  },
  {
   "cell_type": "code",
   "execution_count": 15,
   "id": "9403fccf-ba51-4a92-b64a-d32d70a66ac7",
   "metadata": {},
   "outputs": [
    {
     "data": {
      "text/plain": [
       "808281277464764060643139600456536293376"
      ]
     },
     "execution_count": 15,
     "metadata": {},
     "output_type": "execute_result"
    }
   ],
   "source": [
    "6 ** 50"
   ]
  },
  {
   "cell_type": "code",
   "execution_count": 16,
   "id": "b299a34b-0e46-4a80-b67e-ba6b2ab21b66",
   "metadata": {},
   "outputs": [
    {
     "data": {
      "text/plain": [
       "19.333333333333332"
      ]
     },
     "execution_count": 16,
     "metadata": {},
     "output_type": "execute_result"
    }
   ],
   "source": [
    "58/3"
   ]
  },
  {
   "cell_type": "code",
   "execution_count": 19,
   "id": "45d8c5a6-3ebd-4a71-9d3f-8c93dceb51ca",
   "metadata": {},
   "outputs": [
    {
     "data": {
      "text/plain": [
       "19"
      ]
     },
     "execution_count": 19,
     "metadata": {},
     "output_type": "execute_result"
    }
   ],
   "source": [
    "58 // 3 #floor operator"
   ]
  },
  {
   "cell_type": "code",
   "execution_count": 18,
   "id": "c4e83560-6852-44e2-aab1-a5cdde8f026b",
   "metadata": {},
   "outputs": [
    {
     "data": {
      "text/plain": [
       "19"
      ]
     },
     "execution_count": 18,
     "metadata": {},
     "output_type": "execute_result"
    }
   ],
   "source": [
    "58 // 3"
   ]
  },
  {
   "cell_type": "code",
   "execution_count": 20,
   "id": "433c09b9-f6c6-46ca-801c-c1d776f5a851",
   "metadata": {},
   "outputs": [
    {
     "data": {
      "text/plain": [
       "True"
      ]
     },
     "execution_count": 20,
     "metadata": {},
     "output_type": "execute_result"
    }
   ],
   "source": [
    "#comparison operators >> compare two value>> return a boolean value\n",
    "2 == 2"
   ]
  },
  {
   "cell_type": "code",
   "execution_count": 21,
   "id": "044ec9e5-8e85-46aa-a693-6337762052e7",
   "metadata": {},
   "outputs": [
    {
     "data": {
      "text/plain": [
       "False"
      ]
     },
     "execution_count": 21,
     "metadata": {},
     "output_type": "execute_result"
    }
   ],
   "source": [
    "2 != 2"
   ]
  },
  {
   "cell_type": "code",
   "execution_count": 22,
   "id": "30b538d6-a5c1-4feb-8eb1-4055e908af19",
   "metadata": {},
   "outputs": [
    {
     "data": {
      "text/plain": [
       "True"
      ]
     },
     "execution_count": 22,
     "metadata": {},
     "output_type": "execute_result"
    }
   ],
   "source": [
    "5 != 2"
   ]
  },
  {
   "cell_type": "code",
   "execution_count": 23,
   "id": "7945cd8e-f01d-448e-8aa7-765a76d8ef2d",
   "metadata": {},
   "outputs": [
    {
     "data": {
      "text/plain": [
       "True"
      ]
     },
     "execution_count": 23,
     "metadata": {},
     "output_type": "execute_result"
    }
   ],
   "source": [
    "10 > 2"
   ]
  },
  {
   "cell_type": "code",
   "execution_count": 24,
   "id": "a4e5497d-16c6-47fe-a359-4d6b1f63af21",
   "metadata": {},
   "outputs": [
    {
     "data": {
      "text/plain": [
       "False"
      ]
     },
     "execution_count": 24,
     "metadata": {},
     "output_type": "execute_result"
    }
   ],
   "source": [
    "10 < 2"
   ]
  },
  {
   "cell_type": "code",
   "execution_count": 25,
   "id": "fbd391ea-3267-4404-9f74-bcbb91d5d4a2",
   "metadata": {},
   "outputs": [
    {
     "data": {
      "text/plain": [
       "False"
      ]
     },
     "execution_count": 25,
     "metadata": {},
     "output_type": "execute_result"
    }
   ],
   "source": [
    "10 <= 2"
   ]
  },
  {
   "cell_type": "code",
   "execution_count": 26,
   "id": "ded6ffc4-853d-4b07-9090-2a69b802c002",
   "metadata": {},
   "outputs": [
    {
     "data": {
      "text/plain": [
       "True"
      ]
     },
     "execution_count": 26,
     "metadata": {},
     "output_type": "execute_result"
    }
   ],
   "source": [
    "10 <= 10"
   ]
  },
  {
   "cell_type": "code",
   "execution_count": 27,
   "id": "c0c3c321-580c-41de-b3dc-6b496635138f",
   "metadata": {},
   "outputs": [
    {
     "data": {
      "text/plain": [
       "True"
      ]
     },
     "execution_count": 27,
     "metadata": {},
     "output_type": "execute_result"
    }
   ],
   "source": [
    "10 >= 10"
   ]
  },
  {
   "cell_type": "code",
   "execution_count": 28,
   "id": "267c0a6e-a79f-4a16-ba3e-11ea5d989b32",
   "metadata": {},
   "outputs": [
    {
     "data": {
      "text/plain": [
       "1"
      ]
     },
     "execution_count": 28,
     "metadata": {},
     "output_type": "execute_result"
    }
   ],
   "source": [
    "#logical operator\n",
    "#and\n",
    "#or\n",
    "True-False"
   ]
  },
  {
   "cell_type": "code",
   "execution_count": 29,
   "id": "d619838d-2a08-46bd-a731-e4e63ea4c268",
   "metadata": {},
   "outputs": [
    {
     "data": {
      "text/plain": [
       "True"
      ]
     },
     "execution_count": 29,
     "metadata": {},
     "output_type": "execute_result"
    }
   ],
   "source": [
    "True and True"
   ]
  },
  {
   "cell_type": "code",
   "execution_count": 30,
   "id": "3285b8c0-26ad-468a-b631-bc6a1fd46346",
   "metadata": {},
   "outputs": [
    {
     "data": {
      "text/plain": [
       "False"
      ]
     },
     "execution_count": 30,
     "metadata": {},
     "output_type": "execute_result"
    }
   ],
   "source": [
    "True and False"
   ]
  },
  {
   "cell_type": "code",
   "execution_count": 31,
   "id": "a5ee4d85-74c8-4f92-bad4-b5f358fc20ee",
   "metadata": {},
   "outputs": [
    {
     "data": {
      "text/plain": [
       "False"
      ]
     },
     "execution_count": 31,
     "metadata": {},
     "output_type": "execute_result"
    }
   ],
   "source": [
    "False and False"
   ]
  },
  {
   "cell_type": "code",
   "execution_count": 32,
   "id": "cc62c8b2-aa39-4dd2-8018-dc89ed728bba",
   "metadata": {},
   "outputs": [
    {
     "data": {
      "text/plain": [
       "False"
      ]
     },
     "execution_count": 32,
     "metadata": {},
     "output_type": "execute_result"
    }
   ],
   "source": [
    "False and True"
   ]
  },
  {
   "cell_type": "code",
   "execution_count": 33,
   "id": "f0dca980-ac40-484c-b1bf-29edde3f12f7",
   "metadata": {},
   "outputs": [
    {
     "data": {
      "text/plain": [
       "True"
      ]
     },
     "execution_count": 33,
     "metadata": {},
     "output_type": "execute_result"
    }
   ],
   "source": [
    "True or True"
   ]
  },
  {
   "cell_type": "code",
   "execution_count": 34,
   "id": "62bbb8e2-5900-445f-aaf4-ba1d63697564",
   "metadata": {},
   "outputs": [
    {
     "data": {
      "text/plain": [
       "True"
      ]
     },
     "execution_count": 34,
     "metadata": {},
     "output_type": "execute_result"
    }
   ],
   "source": [
    "True or False"
   ]
  },
  {
   "cell_type": "code",
   "execution_count": 35,
   "id": "76327f5e-7084-4956-9d90-d26f5610a71f",
   "metadata": {},
   "outputs": [
    {
     "data": {
      "text/plain": [
       "True"
      ]
     },
     "execution_count": 35,
     "metadata": {},
     "output_type": "execute_result"
    }
   ],
   "source": [
    "False or True"
   ]
  },
  {
   "cell_type": "code",
   "execution_count": 36,
   "id": "2b263810-e519-4038-9e4f-6a9e559e17a0",
   "metadata": {},
   "outputs": [
    {
     "data": {
      "text/plain": [
       "False"
      ]
     },
     "execution_count": 36,
     "metadata": {},
     "output_type": "execute_result"
    }
   ],
   "source": [
    "False or False"
   ]
  },
  {
   "cell_type": "code",
   "execution_count": 37,
   "id": "c4aafc31-2b1f-4b41-97a5-ee58d53ecb9d",
   "metadata": {},
   "outputs": [
    {
     "data": {
      "text/plain": [
       "False"
      ]
     },
     "execution_count": 37,
     "metadata": {},
     "output_type": "execute_result"
    }
   ],
   "source": [
    "#not operator\n",
    "not True"
   ]
  },
  {
   "cell_type": "code",
   "execution_count": 38,
   "id": "0ef02908-0c42-4d0d-b406-d1b9a5ccbfa5",
   "metadata": {},
   "outputs": [
    {
     "data": {
      "text/plain": [
       "True"
      ]
     },
     "execution_count": 38,
     "metadata": {},
     "output_type": "execute_result"
    }
   ],
   "source": [
    "not False"
   ]
  },
  {
   "cell_type": "code",
   "execution_count": 39,
   "id": "fd019e01-dff7-4ea3-9a6a-c16ceab194a2",
   "metadata": {},
   "outputs": [
    {
     "data": {
      "text/plain": [
       "10"
      ]
     },
     "execution_count": 39,
     "metadata": {},
     "output_type": "execute_result"
    }
   ],
   "source": [
    "#Assignment operators\n",
    "a = 10\n",
    "a"
   ]
  },
  {
   "cell_type": "code",
   "execution_count": 40,
   "id": "724a16ce-afec-4a15-9073-1bd410006be8",
   "metadata": {},
   "outputs": [
    {
     "data": {
      "text/plain": [
       "15"
      ]
     },
     "execution_count": 40,
     "metadata": {},
     "output_type": "execute_result"
    }
   ],
   "source": [
    "a + 5"
   ]
  },
  {
   "cell_type": "code",
   "execution_count": 41,
   "id": "c92645f2-4328-4570-8a43-4976447038b4",
   "metadata": {},
   "outputs": [
    {
     "data": {
      "text/plain": [
       "56"
      ]
     },
     "execution_count": 41,
     "metadata": {},
     "output_type": "execute_result"
    }
   ],
   "source": [
    "b = 50\n",
    "b + 6"
   ]
  },
  {
   "cell_type": "code",
   "execution_count": 44,
   "id": "b9c16323-fbe0-40f2-84ad-111a4d46890e",
   "metadata": {},
   "outputs": [
    {
     "data": {
      "text/plain": [
       "15"
      ]
     },
     "execution_count": 44,
     "metadata": {},
     "output_type": "execute_result"
    }
   ],
   "source": [
    "b = 10\n",
    "b = b+5\n",
    "b"
   ]
  },
  {
   "cell_type": "code",
   "execution_count": 47,
   "id": "d6637e59-b215-4f50-a2f1-c1a3982709f8",
   "metadata": {},
   "outputs": [],
   "source": [
    "b = 5\n",
    "b+=5"
   ]
  },
  {
   "cell_type": "code",
   "execution_count": 48,
   "id": "c895e5da-5e33-470a-925a-762006878942",
   "metadata": {},
   "outputs": [
    {
     "data": {
      "text/plain": [
       "10"
      ]
     },
     "execution_count": 48,
     "metadata": {},
     "output_type": "execute_result"
    }
   ],
   "source": [
    "b"
   ]
  },
  {
   "cell_type": "code",
   "execution_count": 49,
   "id": "bac15e5a-dbeb-4706-9919-4348a015f10a",
   "metadata": {},
   "outputs": [
    {
     "data": {
      "text/plain": [
       "5"
      ]
     },
     "execution_count": 49,
     "metadata": {},
     "output_type": "execute_result"
    }
   ],
   "source": [
    "b-=5\n",
    "b"
   ]
  },
  {
   "cell_type": "code",
   "execution_count": 50,
   "id": "0fb00269-ca33-486e-9beb-0a41aa60017b",
   "metadata": {},
   "outputs": [
    {
     "data": {
      "text/plain": [
       "0"
      ]
     },
     "execution_count": 50,
     "metadata": {},
     "output_type": "execute_result"
    }
   ],
   "source": [
    "b = 5\n",
    "b-=5\n",
    "b"
   ]
  },
  {
   "cell_type": "code",
   "execution_count": 51,
   "id": "c9598fb8-e963-41e4-984b-8797052fc793",
   "metadata": {},
   "outputs": [],
   "source": [
    "b = 2\n",
    "b*=2"
   ]
  },
  {
   "cell_type": "code",
   "execution_count": 52,
   "id": "279f33cf-bb3c-4985-b0cd-b3a0e4fd398f",
   "metadata": {},
   "outputs": [
    {
     "data": {
      "text/plain": [
       "4"
      ]
     },
     "execution_count": 52,
     "metadata": {},
     "output_type": "execute_result"
    }
   ],
   "source": [
    "b"
   ]
  },
  {
   "cell_type": "code",
   "execution_count": 55,
   "id": "1eb0cb15-8773-498c-9806-06fbc57ac367",
   "metadata": {},
   "outputs": [],
   "source": [
    "b = 8\n",
    "b//=4"
   ]
  },
  {
   "cell_type": "code",
   "execution_count": 56,
   "id": "364a15b3-f6fb-494f-81a1-9b37c3823f81",
   "metadata": {},
   "outputs": [
    {
     "data": {
      "text/plain": [
       "2"
      ]
     },
     "execution_count": 56,
     "metadata": {},
     "output_type": "execute_result"
    }
   ],
   "source": [
    "b"
   ]
  },
  {
   "cell_type": "code",
   "execution_count": 59,
   "id": "306384f8-db52-454d-85e1-185614040d82",
   "metadata": {},
   "outputs": [
    {
     "data": {
      "text/plain": [
       "True"
      ]
     },
     "execution_count": 59,
     "metadata": {},
     "output_type": "execute_result"
    }
   ],
   "source": [
    "#membership operator\n",
    "a = \"gaurav\"\n",
    "\"g\" in a"
   ]
  },
  {
   "cell_type": "code",
   "execution_count": 60,
   "id": "45e9ac45-f63c-4ee0-b5df-165c646231a3",
   "metadata": {},
   "outputs": [
    {
     "data": {
      "text/plain": [
       "False"
      ]
     },
     "execution_count": 60,
     "metadata": {},
     "output_type": "execute_result"
    }
   ],
   "source": [
    "\"u\" not in a"
   ]
  },
  {
   "cell_type": "code",
   "execution_count": 61,
   "id": "39609710-d4af-40ee-9fe2-fe49a3a17d8b",
   "metadata": {},
   "outputs": [],
   "source": [
    "#identitity Operator >> campares the Location of two object/variable"
   ]
  },
  {
   "cell_type": "code",
   "execution_count": 62,
   "id": "858e40ea-692d-4442-a791-5d69d002502d",
   "metadata": {},
   "outputs": [],
   "source": [
    "a = 5\n",
    "b = 6"
   ]
  },
  {
   "cell_type": "code",
   "execution_count": 63,
   "id": "dda09c5e-1411-4d28-bf70-a07d7494e028",
   "metadata": {},
   "outputs": [
    {
     "data": {
      "text/plain": [
       "False"
      ]
     },
     "execution_count": 63,
     "metadata": {},
     "output_type": "execute_result"
    }
   ],
   "source": [
    "a is b"
   ]
  },
  {
   "cell_type": "code",
   "execution_count": 64,
   "id": "d6c62669-4726-4edf-82c0-0ac19e88a8b1",
   "metadata": {},
   "outputs": [],
   "source": [
    "a = 6\n",
    "b = a"
   ]
  },
  {
   "cell_type": "code",
   "execution_count": 65,
   "id": "34cf98ce-52a9-4c70-bb2a-d5b821cc3cbd",
   "metadata": {},
   "outputs": [
    {
     "data": {
      "text/plain": [
       "True"
      ]
     },
     "execution_count": 65,
     "metadata": {},
     "output_type": "execute_result"
    }
   ],
   "source": [
    "a is b"
   ]
  },
  {
   "cell_type": "code",
   "execution_count": 66,
   "id": "50ec541e-f613-4163-bdaa-7fbcb8d84fe9",
   "metadata": {},
   "outputs": [
    {
     "data": {
      "text/plain": [
       "False"
      ]
     },
     "execution_count": 66,
     "metadata": {},
     "output_type": "execute_result"
    }
   ],
   "source": [
    "a = b\n",
    "b = 5\n",
    "b is a"
   ]
  },
  {
   "cell_type": "code",
   "execution_count": 67,
   "id": "08820142-5c90-4464-a295-942cfd398ea6",
   "metadata": {},
   "outputs": [
    {
     "data": {
      "text/plain": [
       "False"
      ]
     },
     "execution_count": 67,
     "metadata": {},
     "output_type": "execute_result"
    }
   ],
   "source": [
    "a is b"
   ]
  },
  {
   "cell_type": "code",
   "execution_count": 68,
   "id": "d0b9a0e4-422c-491a-b0a0-10dac3051bf3",
   "metadata": {},
   "outputs": [],
   "source": [
    "#bitwise operator >> oprations at bit level, manipulating individuals bits within integreted"
   ]
  },
  {
   "cell_type": "code",
   "execution_count": 69,
   "id": "c4ab503a-019b-4235-b8db-0287543f4024",
   "metadata": {},
   "outputs": [
    {
     "data": {
      "text/plain": [
       "10"
      ]
     },
     "execution_count": 69,
     "metadata": {},
     "output_type": "execute_result"
    }
   ],
   "source": [
    "10 & 10"
   ]
  },
  {
   "cell_type": "code",
   "execution_count": 70,
   "id": "f82a7f12-8a20-46e8-b60a-eeef784cf14b",
   "metadata": {},
   "outputs": [
    {
     "data": {
      "text/plain": [
       "'0b1010'"
      ]
     },
     "execution_count": 70,
     "metadata": {},
     "output_type": "execute_result"
    }
   ],
   "source": [
    "bin(10)"
   ]
  },
  {
   "cell_type": "code",
   "execution_count": 71,
   "id": "b290c1a2-ba26-425a-a508-3d978dce3d25",
   "metadata": {},
   "outputs": [
    {
     "data": {
      "text/plain": [
       "'0b10010'"
      ]
     },
     "execution_count": 71,
     "metadata": {},
     "output_type": "execute_result"
    }
   ],
   "source": [
    "18\n",
    "bin(18)"
   ]
  },
  {
   "cell_type": "code",
   "execution_count": 72,
   "id": "15fd7aed-1c0d-4cca-a0cb-1c1b56489b2c",
   "metadata": {},
   "outputs": [
    {
     "data": {
      "text/plain": [
       "'0b11'"
      ]
     },
     "execution_count": 72,
     "metadata": {},
     "output_type": "execute_result"
    }
   ],
   "source": [
    "bin(3)"
   ]
  },
  {
   "cell_type": "code",
   "execution_count": 73,
   "id": "0acf4900-13c1-4726-bfd4-9f17d3e0afd1",
   "metadata": {},
   "outputs": [
    {
     "data": {
      "text/plain": [
       "'0b0'"
      ]
     },
     "execution_count": 73,
     "metadata": {},
     "output_type": "execute_result"
    }
   ],
   "source": [
    "bin(0)"
   ]
  },
  {
   "cell_type": "code",
   "execution_count": 74,
   "id": "86764a41-675f-4e88-b80f-e40fde5def88",
   "metadata": {},
   "outputs": [
    {
     "data": {
      "text/plain": [
       "'0b1'"
      ]
     },
     "execution_count": 74,
     "metadata": {},
     "output_type": "execute_result"
    }
   ],
   "source": [
    "bin(1)"
   ]
  },
  {
   "cell_type": "code",
   "execution_count": 75,
   "id": "e8e41a9f-32eb-4385-8806-8cf07ae2ca4d",
   "metadata": {},
   "outputs": [
    {
     "data": {
      "text/plain": [
       "'0b10'"
      ]
     },
     "execution_count": 75,
     "metadata": {},
     "output_type": "execute_result"
    }
   ],
   "source": [
    "bin(2)"
   ]
  },
  {
   "cell_type": "code",
   "execution_count": 76,
   "id": "4ad1a76c-3824-4325-94d2-4289c5e536ec",
   "metadata": {},
   "outputs": [
    {
     "data": {
      "text/plain": [
       "'0b11'"
      ]
     },
     "execution_count": 76,
     "metadata": {},
     "output_type": "execute_result"
    }
   ],
   "source": [
    "bin(3)"
   ]
  },
  {
   "cell_type": "code",
   "execution_count": 77,
   "id": "09cbaecd-cef4-436f-afde-57ad788d47f7",
   "metadata": {},
   "outputs": [
    {
     "data": {
      "text/plain": [
       "'0b100'"
      ]
     },
     "execution_count": 77,
     "metadata": {},
     "output_type": "execute_result"
    }
   ],
   "source": [
    "bin(4)"
   ]
  },
  {
   "cell_type": "code",
   "execution_count": 78,
   "id": "91438983-0602-4dac-960f-bbe16ddc2c62",
   "metadata": {},
   "outputs": [
    {
     "data": {
      "text/plain": [
       "-5"
      ]
     },
     "execution_count": 78,
     "metadata": {},
     "output_type": "execute_result"
    }
   ],
   "source": [
    "#negotion\n",
    "~4"
   ]
  },
  {
   "cell_type": "code",
   "execution_count": 79,
   "id": "020e6f89-6977-4552-a43d-57191204a2a7",
   "metadata": {},
   "outputs": [
    {
     "data": {
      "text/plain": [
       "-501"
      ]
     },
     "execution_count": 79,
     "metadata": {},
     "output_type": "execute_result"
    }
   ],
   "source": [
    "~500"
   ]
  },
  {
   "cell_type": "code",
   "execution_count": 80,
   "id": "83fa7e36-f0ac-4e48-aaa3-f263b5745f4d",
   "metadata": {},
   "outputs": [
    {
     "data": {
      "text/plain": [
       "3"
      ]
     },
     "execution_count": 80,
     "metadata": {},
     "output_type": "execute_result"
    }
   ],
   "source": [
    "#bitwise xor operator >> ^\n",
    "5 ^ 6"
   ]
  },
  {
   "cell_type": "code",
   "execution_count": 81,
   "id": "b184cad5-9976-44a3-b176-965438f4310e",
   "metadata": {},
   "outputs": [
    {
     "data": {
      "text/plain": [
       "'0b101'"
      ]
     },
     "execution_count": 81,
     "metadata": {},
     "output_type": "execute_result"
    }
   ],
   "source": [
    "bin(5)"
   ]
  },
  {
   "cell_type": "code",
   "execution_count": 82,
   "id": "934e76c3-2e0f-4299-9c7b-8b74c6708373",
   "metadata": {},
   "outputs": [
    {
     "data": {
      "text/plain": [
       "'0b110'"
      ]
     },
     "execution_count": 82,
     "metadata": {},
     "output_type": "execute_result"
    }
   ],
   "source": [
    "bin(6)"
   ]
  },
  {
   "cell_type": "code",
   "execution_count": null,
   "id": "c6b9e557-3696-491e-aa2c-c60b05b3d538",
   "metadata": {},
   "outputs": [],
   "source": [
    "#shift >> left shift and right shift"
   ]
  },
  {
   "cell_type": "code",
   "execution_count": null,
   "id": "cba87b55-8ef3-4bf7-851a-8db5d3ff9ea2",
   "metadata": {},
   "outputs": [],
   "source": [
    "#left shift -- <<"
   ]
  },
  {
   "cell_type": "code",
   "execution_count": 84,
   "id": "3b133a9e-b8f0-42f1-8fdd-d84f735e7abb",
   "metadata": {},
   "outputs": [
    {
     "data": {
      "text/plain": [
       "400"
      ]
     },
     "execution_count": 84,
     "metadata": {},
     "output_type": "execute_result"
    }
   ],
   "source": [
    "25 << 4"
   ]
  },
  {
   "cell_type": "code",
   "execution_count": 85,
   "id": "859feef9-9557-42b0-9789-50ff12b4fa9d",
   "metadata": {},
   "outputs": [
    {
     "data": {
      "text/plain": [
       "10"
      ]
     },
     "execution_count": 85,
     "metadata": {},
     "output_type": "execute_result"
    }
   ],
   "source": [
    "5 << 1"
   ]
  },
  {
   "cell_type": "code",
   "execution_count": 86,
   "id": "079ddde1-e376-40ae-a15b-33fb74fa5c93",
   "metadata": {},
   "outputs": [
    {
     "data": {
      "text/plain": [
       "'0b101'"
      ]
     },
     "execution_count": 86,
     "metadata": {},
     "output_type": "execute_result"
    }
   ],
   "source": [
    "bin(5)"
   ]
  },
  {
   "cell_type": "code",
   "execution_count": 87,
   "id": "eae8db20-800d-45ae-b6a2-b9f406a2f822",
   "metadata": {},
   "outputs": [
    {
     "data": {
      "text/plain": [
       "'0b1010'"
      ]
     },
     "execution_count": 87,
     "metadata": {},
     "output_type": "execute_result"
    }
   ],
   "source": [
    "bin(10)"
   ]
  },
  {
   "cell_type": "code",
   "execution_count": 88,
   "id": "753e79d0-b5f3-4aa5-8f20-9266925ac997",
   "metadata": {},
   "outputs": [
    {
     "data": {
      "text/plain": [
       "62"
      ]
     },
     "execution_count": 88,
     "metadata": {},
     "output_type": "execute_result"
    }
   ],
   "source": [
    "#rght shift operator\n",
    "250 >> 2"
   ]
  },
  {
   "cell_type": "code",
   "execution_count": 89,
   "id": "c2e407d0-a01a-472c-aaf1-1c50459d9360",
   "metadata": {},
   "outputs": [
    {
     "data": {
      "text/plain": [
       "'0b100011000'"
      ]
     },
     "execution_count": 89,
     "metadata": {},
     "output_type": "execute_result"
    }
   ],
   "source": [
    "bin(280)"
   ]
  },
  {
   "cell_type": "code",
   "execution_count": 90,
   "id": "7233540b-45b9-4958-879f-0d1aed64bd92",
   "metadata": {},
   "outputs": [
    {
     "data": {
      "text/plain": [
       "'0b111110'"
      ]
     },
     "execution_count": 90,
     "metadata": {},
     "output_type": "execute_result"
    }
   ],
   "source": [
    "bin(62)"
   ]
  },
  {
   "cell_type": "code",
   "execution_count": null,
   "id": "73ad19c8-cddf-44ee-9f17-b677de8c0ef1",
   "metadata": {},
   "outputs": [],
   "source": [
    "#order of precedence\n",
    "#execution of python statement will be from left to right"
   ]
  },
  {
   "cell_type": "code",
   "execution_count": 91,
   "id": "3d476231-7148-4ef5-a067-8e144ff90adc",
   "metadata": {},
   "outputs": [
    {
     "data": {
      "text/plain": [
       "5"
      ]
     },
     "execution_count": 91,
     "metadata": {},
     "output_type": "execute_result"
    }
   ],
   "source": [
    "b = 2\n",
    "b += 3\n",
    "b"
   ]
  },
  {
   "cell_type": "code",
   "execution_count": 92,
   "id": "02f7fcb6-a9b4-4aca-ad34-6c876657aa3d",
   "metadata": {},
   "outputs": [
    {
     "data": {
      "text/plain": [
       "7"
      ]
     },
     "execution_count": 92,
     "metadata": {},
     "output_type": "execute_result"
    }
   ],
   "source": [
    "5+8-6"
   ]
  },
  {
   "cell_type": "code",
   "execution_count": 93,
   "id": "036185e9-f8a4-4e11-9f94-78926a3643ba",
   "metadata": {},
   "outputs": [
    {
     "data": {
      "text/plain": [
       "60.0"
      ]
     },
     "execution_count": 93,
     "metadata": {},
     "output_type": "execute_result"
    }
   ],
   "source": [
    "(50+5) + (25/5)"
   ]
  },
  {
   "cell_type": "code",
   "execution_count": null,
   "id": "0a360523-cea4-48e6-ba51-f6abe9196d93",
   "metadata": {},
   "outputs": [],
   "source": []
  }
 ],
 "metadata": {
  "kernelspec": {
   "display_name": "Python 3 (ipykernel)",
   "language": "python",
   "name": "python3"
  },
  "language_info": {
   "codemirror_mode": {
    "name": "ipython",
    "version": 3
   },
   "file_extension": ".py",
   "mimetype": "text/x-python",
   "name": "python",
   "nbconvert_exporter": "python",
   "pygments_lexer": "ipython3",
   "version": "3.13.5"
  }
 },
 "nbformat": 4,
 "nbformat_minor": 5
}
